{
 "cells": [
  {
   "cell_type": "markdown",
   "metadata": {},
   "source": [
    "# Python期末大作业\n",
    "#### 数据爬取与分析"
   ]
  },
  {
   "cell_type": "code",
   "execution_count": null,
   "metadata": {},
   "outputs": [],
   "source": [
    "import requests\n",
    "from bs4 import BeautifulSoup\n",
    "import bs4.element\n",
    "import xlwings as xw\n",
    "import wordcloud\n",
    "\n",
    "years=[2019, 2020, 2021]\n",
    "lst=list()\n",
    "\n",
    "def getHTMLText(url):\n",
    "    try:\n",
    "        r=requests.get(url, timeout=30)\n",
    "        r.raise_for_status()\n",
    "        r.encoding=r.apparent_encoding\n",
    "        return r.text\n",
    "    except:\n",
    "        print(\"Error.\")\n",
    "\n",
    "def fillArtcList(ulist, html):\n",
    "    soup=BeautifulSoup(html, \"html.parser\")\n",
    "    for cite in soup.find_all(\"cite\"):\n",
    "        if (isinstance(cite, bs4.element.Tag)):\n",
    "            ulist.append(cite.find(class_=\"title\").string)\n",
    "    del ulist[0] # 第一条不是论文题目\n",
    "\n",
    "def checkKeyword(ulist, keyword):\n",
    "    plist=list()\n",
    "    keyword=keyword.lower()\n",
    "    for title in ulist:\n",
    "        if keyword in title.lower():\n",
    "            plist.append(title)\n",
    "    return plist\n",
    "\n",
    "def xlsxWrite(path):\n",
    "    app=xw.App(visible=False, add_book=False)\n",
    "    app.display_alerts=False\n",
    "    app.screen_updating=False\n",
    "    try:\n",
    "        wb=app.books.open(path)\n",
    "    except:\n",
    "        wb=app.books.add()\n",
    "    sheet=wb.sheets.active\n",
    "    for i in range(len(years)):\n",
    "        head=['A','B','C'][i]+'1'\n",
    "        sheet.range(head).value=years[i]\n",
    "        for j in range(len(lst[i])):\n",
    "            sheet.range(head[0]+str(j+2)).value=lst[i][j]\n",
    "    wb.save(path)\n",
    "    wb.close()\n",
    "    app.quit()\n",
    "\n",
    "def statistics():\n",
    "    kv=dict()\n",
    "    for sublst in lst:\n",
    "        for title in sublst:\n",
    "            for word in title.split():\n",
    "                word=word.lower().strip(\",.:-\")\n",
    "                if kv.get(word):\n",
    "                    kv[word]+=1\n",
    "                else:\n",
    "                    kv[word]=1\n",
    "            for junk in ['a', 'an', 'the', 'of', 'for', 'in', 'on', 'by', 'with', 'from', 'and']:\n",
    "                try:\n",
    "                    del kv[junk]\n",
    "                except:\n",
    "                    pass\n",
    "    srtd=sorted(kv.items(),key=lambda x:x[1], reverse=True)\n",
    "    with open(\"stat.txt\", \"w\") as f:\n",
    "        for col in srtd:\n",
    "            f.write(col[0]+','+str(col[1])+'\\n')\n",
    "    w=wordcloud.WordCloud(width=1024, height=768, mode=\"RGBA\", background_color=None)\n",
    "    ukv=dict()\n",
    "    for k,v in kv.items():\n",
    "        ukv[k.upper()]=v\n",
    "    w.generate_from_frequencies(ukv)\n",
    "    w.to_file(\"wordcloud.png\")\n",
    "    "
   ]
  },
  {
   "cell_type": "markdown",
   "metadata": {},
   "source": [
    "#### main()函数"
   ]
  },
  {
   "cell_type": "code",
   "execution_count": null,
   "metadata": {},
   "outputs": [],
   "source": [
    "def main():\n",
    "    url_start=\"https://dblp.uni-trier.de/db/conf/cvpr/cvpr\"\n",
    "    url_end=\".html\"\n",
    "    keyword=\"unsupervised\" # 爬取（筛选）关键词\n",
    "    path=\"titles.xlsx\"\n",
    "    global lst\n",
    "    for y in years:\n",
    "        ulist=list()\n",
    "        html=getHTMLText(url_start+str(y)+url_end)\n",
    "        fillArtcList(ulist, html)\n",
    "        plist=checkKeyword(ulist, keyword)\n",
    "        print(\"{0} 年标题包含\\\"{1}\\\"的论文共有{2:^6}篇\\n\".format(y, keyword, len(plist)))\n",
    "        lst.append(plist)\n",
    "    xlsxWrite(path)\n",
    "    statistics()\n",
    "\n",
    "if __name__=='__main__':\n",
    "    main()"
   ]
  }
 ],
 "metadata": {
  "interpreter": {
   "hash": "bd0568d8647bfe2c5b59c81f47863eb65b413eeef312764b5149d804a4a00697"
  },
  "kernelspec": {
   "display_name": "Python 3 (ipykernel)",
   "language": "python",
   "name": "python3"
  },
  "language_info": {
   "codemirror_mode": {
    "name": "ipython",
    "version": 3
   },
   "file_extension": ".py",
   "mimetype": "text/x-python",
   "name": "python",
   "nbconvert_exporter": "python",
   "pygments_lexer": "ipython3",
   "version": "3.8.12"
  }
 },
 "nbformat": 4,
 "nbformat_minor": 2
}
